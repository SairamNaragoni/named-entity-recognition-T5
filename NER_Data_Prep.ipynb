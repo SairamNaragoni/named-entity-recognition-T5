{
  "nbformat": 4,
  "nbformat_minor": 0,
  "metadata": {
    "colab": {
      "name": "NER Data Prep.ipynb",
      "provenance": [],
      "collapsed_sections": [],
      "mount_file_id": "1T-pyJjq6jxz7xs5zoNbTHB9a6_fSCV7s",
      "authorship_tag": "ABX9TyPEVkrzC3CdC9Rg9IIxyF38"
    },
    "kernelspec": {
      "name": "python3",
      "display_name": "Python 3"
    },
    "language_info": {
      "name": "python"
    },
    "accelerator": "GPU"
  },
  "cells": [
    {
      "cell_type": "code",
      "metadata": {
        "id": "y-_0CfPGWN-E"
      },
      "source": [
        "import glob\n",
        "import os\n",
        "import json\n",
        "import re\n",
        "from itertools import chain\n",
        "from string import punctuation\n",
        "import random\n",
        "\n",
        "import pandas as pd\n",
        "import numpy as np"
      ],
      "execution_count": null,
      "outputs": []
    },
    {
      "cell_type": "code",
      "metadata": {
        "id": "JiHth8znWrfc"
      },
      "source": [
        "# GDrive for GCollab\n",
        "file_path = 'drive/MyDrive/Colab Notebooks/moviedata.csv'\n",
        "root_path = 'drive/MyDrive/Colab Notebooks/'\n",
        "\n",
        "# Local File System\n",
        "# file_path = 'dataset/moviedata.csv'\n",
        "# root_path = 'dataset/'"
      ],
      "execution_count": 13,
      "outputs": []
    },
    {
      "cell_type": "code",
      "metadata": {
        "id": "ipYMW6xgY9t0"
      },
      "source": [
        "#Data Cleaning\n",
        "def pre_process(text):\n",
        "  text = clean_text(text)\n",
        "  text = remove_spaces(text)\n",
        "  return text\n",
        "\n",
        "def remove_spaces(text):\n",
        "  text = re.sub(r\" \",\"\",text)\n",
        "  return text\n",
        "\n",
        "def remove_commas(text):\n",
        "  text = re.sub(r\",\",\" \",text)\n",
        "  text = re.sub(r\"[-{}\\\"#/@:;<>+=~()|.!?]\",\"\",text)\n",
        "  return text\n",
        "\n",
        "def replace_commas(text,token):\n",
        "  text = re.sub(r\"[-{}\\\"#/@:;<>+=~()|.!?]\",\"\",text)\n",
        "  text = re.sub(r\",\",token,text)\n",
        "  return text+token\n",
        "\n",
        "def extract_year(text,token):\n",
        "  text = text.lower()\n",
        "  match = re.match(r'.*([1-3][0-9]{3})',text)\n",
        "  if match is not None:\n",
        "    return match.group(1)+token\n",
        "  else:\n",
        "    return \"\"\n",
        "\n",
        "def clean_text(text):\n",
        "    text = text.lower()\n",
        "    text = re.sub(r\"i'm\", \"i am\", text)\n",
        "    text = re.sub(r\"he's\", \"he is\", text)\n",
        "    text = re.sub(r\"she's\", \"she is\", text)\n",
        "    text = re.sub(r\"that's\", \"that is\", text)\n",
        "    text = re.sub(r\"what's\", \"what is\", text)\n",
        "    text = re.sub(r\"where's\", \"where is\", text)\n",
        "    text = re.sub(r\"\\'ll\", \" will\", text)\n",
        "    text = re.sub(r\"\\'ve\", \" have\", text)\n",
        "    text = re.sub(r\"\\'re\", \" are\", text)\n",
        "    text = re.sub(r\"\\'d\", \" would\", text)\n",
        "    text = re.sub(r\"won't\", \"will not\", text)\n",
        "    text = re.sub(r\"can't\", \"cannot\", text)\n",
        "    text = re.sub(r\"[-{}\\\"#/@:;<>+=~()|.?,]\", \"\", text) \n",
        "    return text"
      ],
      "execution_count": null,
      "outputs": []
    },
    {
      "cell_type": "code",
      "metadata": {
        "colab": {
          "base_uri": "https://localhost:8080/",
          "height": 195
        },
        "id": "K3kYEqUoYp9I",
        "outputId": "50d372ea-82c1-411f-97d1-d97d1704d458"
      },
      "source": [
        "df = pd.read_csv(file_path)\n",
        "df = df[['Rank','Title','Genre','Director','Actors']]\n",
        "df = df.dropna()\n",
        "df = df.apply(lambda x: x.astype(str).str.lower())\n",
        "df.tail()"
      ],
      "execution_count": null,
      "outputs": [
        {
          "output_type": "execute_result",
          "data": {
            "text/html": [
              "<div>\n",
              "<style scoped>\n",
              "    .dataframe tbody tr th:only-of-type {\n",
              "        vertical-align: middle;\n",
              "    }\n",
              "\n",
              "    .dataframe tbody tr th {\n",
              "        vertical-align: top;\n",
              "    }\n",
              "\n",
              "    .dataframe thead th {\n",
              "        text-align: right;\n",
              "    }\n",
              "</style>\n",
              "<table border=\"1\" class=\"dataframe\">\n",
              "  <thead>\n",
              "    <tr style=\"text-align: right;\">\n",
              "      <th></th>\n",
              "      <th>Rank</th>\n",
              "      <th>Title</th>\n",
              "      <th>Genre</th>\n",
              "      <th>Director</th>\n",
              "      <th>Actors</th>\n",
              "    </tr>\n",
              "  </thead>\n",
              "  <tbody>\n",
              "    <tr>\n",
              "      <th>995</th>\n",
              "      <td>996</td>\n",
              "      <td>secret in their eyes</td>\n",
              "      <td>crime,drama,mystery</td>\n",
              "      <td>billy ray</td>\n",
              "      <td>chiwetel ejiofor, nicole kidman, julia roberts...</td>\n",
              "    </tr>\n",
              "    <tr>\n",
              "      <th>996</th>\n",
              "      <td>997</td>\n",
              "      <td>hostel: part ii</td>\n",
              "      <td>horror</td>\n",
              "      <td>eli roth</td>\n",
              "      <td>lauren german, heather matarazzo, bijou philli...</td>\n",
              "    </tr>\n",
              "    <tr>\n",
              "      <th>997</th>\n",
              "      <td>998</td>\n",
              "      <td>step up 2: the streets</td>\n",
              "      <td>drama,music,romance</td>\n",
              "      <td>jon m. chu</td>\n",
              "      <td>robert hoffman, briana evigan, cassie ventura,...</td>\n",
              "    </tr>\n",
              "    <tr>\n",
              "      <th>998</th>\n",
              "      <td>999</td>\n",
              "      <td>search party</td>\n",
              "      <td>adventure,comedy</td>\n",
              "      <td>scot armstrong</td>\n",
              "      <td>adam pally, t.j. miller, thomas middleditch,sh...</td>\n",
              "    </tr>\n",
              "    <tr>\n",
              "      <th>999</th>\n",
              "      <td>1000</td>\n",
              "      <td>nine lives</td>\n",
              "      <td>comedy,family,fantasy</td>\n",
              "      <td>barry sonnenfeld</td>\n",
              "      <td>kevin spacey, jennifer garner, robbie amell,ch...</td>\n",
              "    </tr>\n",
              "  </tbody>\n",
              "</table>\n",
              "</div>"
            ],
            "text/plain": [
              "     Rank  ...                                             Actors\n",
              "995   996  ...  chiwetel ejiofor, nicole kidman, julia roberts...\n",
              "996   997  ...  lauren german, heather matarazzo, bijou philli...\n",
              "997   998  ...  robert hoffman, briana evigan, cassie ventura,...\n",
              "998   999  ...  adam pally, t.j. miller, thomas middleditch,sh...\n",
              "999  1000  ...  kevin spacey, jennifer garner, robbie amell,ch...\n",
              "\n",
              "[5 rows x 5 columns]"
            ]
          },
          "metadata": {
            "tags": []
          },
          "execution_count": 6
        }
      ]
    },
    {
      "cell_type": "code",
      "metadata": {
        "colab": {
          "base_uri": "https://localhost:8080/"
        },
        "id": "-h_sxyGiYrzs",
        "outputId": "cfb3f934-3754-4b6f-d246-991a3b5e0a7d"
      },
      "source": [
        "genres = set()\n",
        "persons = set()\n",
        "numbers = set()\n",
        "for index, row in df.iterrows():\n",
        "  entry = row['Genre']\n",
        "  for e in entry.split(','):\n",
        "    genres.add(e.strip())\n",
        "\n",
        "  entry = row['Director']\n",
        "  for e in entry.split(','):\n",
        "    persons.add(e.strip())\n",
        "    \n",
        "  entry = row['Actors']\n",
        "  for e in entry.split(','):\n",
        "    persons.add(e.strip())\n",
        "  \n",
        "  entry = row['Rank']\n",
        "  for e in entry.split(','):\n",
        "    numbers.add(e.strip())\n",
        "\n",
        "genres_list = list(genres)\n",
        "persons_list = list(persons)\n",
        "numbers_list = list(numbers)\n",
        "\n",
        "print(\"Found %d genres\"%len(genres_list))\n",
        "print(\"Found %d persons\"%len(persons_list))\n",
        "print(\"Found %d genres\"%len(numbers_list))"
      ],
      "execution_count": null,
      "outputs": [
        {
          "output_type": "stream",
          "text": [
            "Found 20 genres\n",
            "Found 2593 persons\n",
            "Found 1000 genres\n"
          ],
          "name": "stdout"
        }
      ]
    },
    {
      "cell_type": "code",
      "metadata": {
        "colab": {
          "base_uri": "https://localhost:8080/",
          "height": 195
        },
        "id": "bUslIrm8bR_W",
        "outputId": "394f71fc-666f-4d3d-cbef-be85300fc6fe"
      },
      "source": [
        "data = df.copy()\n",
        "data['Genre'] = data['Genre'].map(lambda x: remove_commas(x))\n",
        "data['Director'] = data['Director'].map(lambda x: remove_commas(x))\n",
        "data['Actors'] = data['Actors'].map(lambda x: remove_commas(x))\n",
        "data['Rank'] = data['Rank'].map(lambda x: remove_commas(x))\n",
        "input_text = data['Genre'].str.cat(data[['Director','Actors','Rank']].astype(str), sep=\" \")\n",
        "\n",
        "data = df.copy()\n",
        "data['Genre'] = data['Genre'].map(lambda x: replace_commas(x,'> '))\n",
        "data['Director'] = data['Director'].map(lambda x: replace_commas(x,'# '))\n",
        "data['Actors'] = data['Actors'].map(lambda x: replace_commas(x,'# '))\n",
        "data['Rank'] = data['Rank'].map(lambda x: replace_commas(x,'+ '))\n",
        "target_text = data['Genre'].str.cat(data[['Director','Actors','Rank']].astype(str), sep=\" \")\n",
        "\n",
        "data['input_text'] = input_text\n",
        "data['target_text'] = target_text\n",
        "data['prefix'] = 'ner'\n",
        "data = data[['prefix','input_text', 'target_text']]\n",
        "data.tail()"
      ],
      "execution_count": null,
      "outputs": [
        {
          "output_type": "execute_result",
          "data": {
            "text/html": [
              "<div>\n",
              "<style scoped>\n",
              "    .dataframe tbody tr th:only-of-type {\n",
              "        vertical-align: middle;\n",
              "    }\n",
              "\n",
              "    .dataframe tbody tr th {\n",
              "        vertical-align: top;\n",
              "    }\n",
              "\n",
              "    .dataframe thead th {\n",
              "        text-align: right;\n",
              "    }\n",
              "</style>\n",
              "<table border=\"1\" class=\"dataframe\">\n",
              "  <thead>\n",
              "    <tr style=\"text-align: right;\">\n",
              "      <th></th>\n",
              "      <th>prefix</th>\n",
              "      <th>input_text</th>\n",
              "      <th>target_text</th>\n",
              "    </tr>\n",
              "  </thead>\n",
              "  <tbody>\n",
              "    <tr>\n",
              "      <th>995</th>\n",
              "      <td>ner</td>\n",
              "      <td>crime drama mystery billy ray chiwetel ejiofor...</td>\n",
              "      <td>crime&gt; drama&gt; mystery&gt;  billy ray#  chiwetel e...</td>\n",
              "    </tr>\n",
              "    <tr>\n",
              "      <th>996</th>\n",
              "      <td>ner</td>\n",
              "      <td>horror eli roth lauren german  heather mataraz...</td>\n",
              "      <td>horror&gt;  eli roth#  lauren german#  heather ma...</td>\n",
              "    </tr>\n",
              "    <tr>\n",
              "      <th>997</th>\n",
              "      <td>ner</td>\n",
              "      <td>drama music romance jon m chu robert hoffman  ...</td>\n",
              "      <td>drama&gt; music&gt; romance&gt;  jon m chu#  robert hof...</td>\n",
              "    </tr>\n",
              "    <tr>\n",
              "      <th>998</th>\n",
              "      <td>ner</td>\n",
              "      <td>adventure comedy scot armstrong adam pally  tj...</td>\n",
              "      <td>adventure&gt; comedy&gt;  scot armstrong#  adam pall...</td>\n",
              "    </tr>\n",
              "    <tr>\n",
              "      <th>999</th>\n",
              "      <td>ner</td>\n",
              "      <td>comedy family fantasy barry sonnenfeld kevin s...</td>\n",
              "      <td>comedy&gt; family&gt; fantasy&gt;  barry sonnenfeld#  k...</td>\n",
              "    </tr>\n",
              "  </tbody>\n",
              "</table>\n",
              "</div>"
            ],
            "text/plain": [
              "    prefix  ...                                        target_text\n",
              "995    ner  ...  crime> drama> mystery>  billy ray#  chiwetel e...\n",
              "996    ner  ...  horror>  eli roth#  lauren german#  heather ma...\n",
              "997    ner  ...  drama> music> romance>  jon m chu#  robert hof...\n",
              "998    ner  ...  adventure> comedy>  scot armstrong#  adam pall...\n",
              "999    ner  ...  comedy> family> fantasy>  barry sonnenfeld#  k...\n",
              "\n",
              "[5 rows x 3 columns]"
            ]
          },
          "metadata": {
            "tags": []
          },
          "execution_count": 8
        }
      ]
    },
    {
      "cell_type": "code",
      "metadata": {
        "id": "1-q8Q5pMhcYo"
      },
      "source": [
        "# Generating data for NER\n",
        "# > - Genres\n",
        "# # - Persons\n",
        "# + - Numbers\n",
        "s1=\"Suggest me some %s movies directed by %s and acted by %s\"\n",
        "s2=\"What happened in the year %s\""
      ],
      "execution_count": null,
      "outputs": []
    },
    {
      "cell_type": "code",
      "metadata": {
        "colab": {
          "base_uri": "https://localhost:8080/"
        },
        "id": "AtBJFoDLbmJh",
        "outputId": "f35d1af4-66a9-40b3-f8b7-c80602bce85f"
      },
      "source": [
        "train_data=[]\n",
        "for i,entry in enumerate(persons_list):\n",
        "  actor = random.choice(persons_list)\n",
        "  director = random.choice(persons_list)\n",
        "  genre = random.choice(genres_list)\n",
        "  train_data.append({\n",
        "      'input_text' : s1%(genre,director,actor),\n",
        "      'target_text': genre + '> ' + director + '# ' + actor + '# '\n",
        "  })\n",
        "\n",
        "for entry in numbers:\n",
        "  train_data.append({\n",
        "      'input_text' : s2%(entry),\n",
        "      'target_text': entry + '+ '\n",
        "  })\n",
        "train_data[-1],len(train_data)"
      ],
      "execution_count": null,
      "outputs": [
        {
          "output_type": "execute_result",
          "data": {
            "text/plain": [
              "({'input_text': 'What happened in the year 571', 'target_text': '571+ '}, 3593)"
            ]
          },
          "metadata": {
            "tags": []
          },
          "execution_count": 10
        }
      ]
    },
    {
      "cell_type": "code",
      "metadata": {
        "id": "zvF7eOYAkxgi"
      },
      "source": [
        "train_df = pd.DataFrame(train_data)\n",
        "train_df['prefix'] = 'ner'\n",
        "train_df.append(data)\n",
        "train_df.reset_index(inplace=True,drop=True)\n",
        "train_df = train_df.apply(lambda x:x.astype(str).str.lower())\n",
        "train_df.to_csv(root_path+\"ner_data.csv\")"
      ],
      "execution_count": null,
      "outputs": []
    },
    {
      "cell_type": "code",
      "metadata": {
        "colab": {
          "base_uri": "https://localhost:8080/",
          "height": 195
        },
        "id": "B-PcikullPdm",
        "outputId": "f2fd3bff-60f3-4b15-9fe0-bd0bcfa83346"
      },
      "source": [
        "train_df.tail()"
      ],
      "execution_count": null,
      "outputs": [
        {
          "output_type": "execute_result",
          "data": {
            "text/html": [
              "<div>\n",
              "<style scoped>\n",
              "    .dataframe tbody tr th:only-of-type {\n",
              "        vertical-align: middle;\n",
              "    }\n",
              "\n",
              "    .dataframe tbody tr th {\n",
              "        vertical-align: top;\n",
              "    }\n",
              "\n",
              "    .dataframe thead th {\n",
              "        text-align: right;\n",
              "    }\n",
              "</style>\n",
              "<table border=\"1\" class=\"dataframe\">\n",
              "  <thead>\n",
              "    <tr style=\"text-align: right;\">\n",
              "      <th></th>\n",
              "      <th>input_text</th>\n",
              "      <th>target_text</th>\n",
              "      <th>prefix</th>\n",
              "    </tr>\n",
              "  </thead>\n",
              "  <tbody>\n",
              "    <tr>\n",
              "      <th>3588</th>\n",
              "      <td>what happened in the year 235</td>\n",
              "      <td>235+</td>\n",
              "      <td>ner</td>\n",
              "    </tr>\n",
              "    <tr>\n",
              "      <th>3589</th>\n",
              "      <td>what happened in the year 764</td>\n",
              "      <td>764+</td>\n",
              "      <td>ner</td>\n",
              "    </tr>\n",
              "    <tr>\n",
              "      <th>3590</th>\n",
              "      <td>what happened in the year 395</td>\n",
              "      <td>395+</td>\n",
              "      <td>ner</td>\n",
              "    </tr>\n",
              "    <tr>\n",
              "      <th>3591</th>\n",
              "      <td>what happened in the year 418</td>\n",
              "      <td>418+</td>\n",
              "      <td>ner</td>\n",
              "    </tr>\n",
              "    <tr>\n",
              "      <th>3592</th>\n",
              "      <td>what happened in the year 571</td>\n",
              "      <td>571+</td>\n",
              "      <td>ner</td>\n",
              "    </tr>\n",
              "  </tbody>\n",
              "</table>\n",
              "</div>"
            ],
            "text/plain": [
              "                         input_text target_text prefix\n",
              "3588  what happened in the year 235       235+     ner\n",
              "3589  what happened in the year 764       764+     ner\n",
              "3590  what happened in the year 395       395+     ner\n",
              "3591  what happened in the year 418       418+     ner\n",
              "3592  what happened in the year 571       571+     ner"
            ]
          },
          "metadata": {
            "tags": []
          },
          "execution_count": 12
        }
      ]
    },
    {
      "cell_type": "code",
      "metadata": {
        "id": "rDu1lawLnOJW"
      },
      "source": [
        ""
      ],
      "execution_count": null,
      "outputs": []
    }
  ]
}